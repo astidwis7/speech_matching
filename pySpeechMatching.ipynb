{
  "nbformat": 4,
  "nbformat_minor": 0,
  "metadata": {
    "colab": {
      "provenance": [],
      "include_colab_link": true
    },
    "kernelspec": {
      "name": "python3",
      "display_name": "Python 3"
    },
    "language_info": {
      "name": "python"
    }
  },
  "cells": [
    {
      "cell_type": "markdown",
      "metadata": {
        "id": "view-in-github",
        "colab_type": "text"
      },
      "source": [
        "<a href=\"https://colab.research.google.com/github/astidwis7/speech_matching/blob/main/pySpeechMatching.ipynb\" target=\"_parent\"><img src=\"https://colab.research.google.com/assets/colab-badge.svg\" alt=\"Open In Colab\"/></a>"
      ]
    },
    {
      "cell_type": "markdown",
      "source": [
        "***Speech Mathcing using Siamese Neural Network***"
      ],
      "metadata": {
        "id": "jACns5Bn3SX0"
      }
    },
    {
      "cell_type": "markdown",
      "source": [
        "*The dataset in this program is the audio pronunciation of Hijaiyah letters*"
      ],
      "metadata": {
        "id": "0HHOgCDg4s6e"
      }
    },
    {
      "cell_type": "markdown",
      "source": [
        "*Link to open the dataset --> [hijaiyahLetters](https://drive.google.com/drive/folders/1YlThJpnb_e_JxEh_QSsCYtq-gtbUUtzl?usp=sharing)*"
      ],
      "metadata": {
        "id": "9BMiZ4Ax8dy8"
      }
    },
    {
      "cell_type": "code",
      "execution_count": null,
      "metadata": {
        "id": "EepsB8KIDQ67"
      },
      "outputs": [],
      "source": [
        "# install tensorflow-io\n",
        "\n",
        "!pip install tensorflow-io"
      ]
    },
    {
      "cell_type": "code",
      "source": [
        "# retrieve hijaiyah letters audio\n",
        "\n",
        "import tensorflow as tf\n",
        "import glob\n",
        "import numpy as np\n",
        "\n",
        "!unzip /content/Syi.zip\n",
        "!unzip /content/Dhi.zip\n",
        "\n",
        "syi_path = glob.glob('Syi/*.wav')\n",
        "dhi_path = glob.glob('Dhi/*.wav')\n",
        "\n",
        "data = []\n",
        "data_ = []\n",
        "for _ in syi_path:\n",
        "  data.append(np.asarray(tf.audio.decode_wav(tf.io.read_file(_)).audio[:44100,:]))\n",
        "for _ in dhi_path:\n",
        "  data_.append(np.asarray(tf.audio.decode_wav(tf.io.read_file(_)).audio[:44100,:]))"
      ],
      "metadata": {
        "id": "1VydGfWl7IxL"
      },
      "execution_count": null,
      "outputs": []
    },
    {
      "cell_type": "code",
      "source": [
        "# audio pairing & labeling\n",
        "\n",
        "x = []\n",
        "y = []\n",
        "for i in range(min([len(data), len(data_)])-1):\n",
        "  c = []\n",
        "  c.append(data[i])\n",
        "  c.append(data[i+1])\n",
        "  c = np.asarray(c)\n",
        "  x.append(c)\n",
        "  y.append(1)\n",
        "\n",
        "for i in range(min([len(data), len(data_)])-1):\n",
        "  c = []\n",
        "  c.append(data[i])\n",
        "  c.append(data_[i])\n",
        "  c = np.asarray(c)\n",
        "  x.append(c)\n",
        "  y.append(0)\n",
        "\n",
        "x = np.asarray(x)\n",
        "y = np.asarray(y).astype('float32')"
      ],
      "metadata": {
        "id": "XyZ0qpSIRnb3"
      },
      "execution_count": 3,
      "outputs": []
    },
    {
      "cell_type": "markdown",
      "source": [
        "SNN model initiation"
      ],
      "metadata": {
        "id": "_3LkoTVOGgxQ"
      }
    },
    {
      "cell_type": "code",
      "source": [
        "from tensorflow.keras.models import Model\n",
        "from tensorflow.keras.layers import Input, Flatten, Dense, Dropout, Lambda\n",
        "from tensorflow.keras import backend as K\n",
        "\n",
        "\n",
        "def initialize_base_network():\n",
        "    input = Input(shape=(44100,2,), name=\"base_input\")\n",
        "    x = Flatten(name=\"flatten_input\")(input)\n",
        "    x = Dense(128, activation='relu', name=\"first_base_dense\")(x)\n",
        "    x = Dropout(0.1, name=\"first_dropout\")(x)\n",
        "    x = Dense(128, activation='relu', name=\"second_base_dense\")(x)\n",
        "    x = Dropout(0.1, name=\"second_dropout\")(x)\n",
        "    x = Dense(128, activation='relu', name=\"third_base_dense\")(x)\n",
        "\n",
        "    return Model(inputs=input, outputs=x)\n",
        "\n",
        "\n",
        "def euclidean_distance(vects):\n",
        "    x, y = vects\n",
        "    sum_square = K.sum(K.square(x - y), axis=1, keepdims=True)\n",
        "    return K.sqrt(K.maximum(sum_square, K.epsilon()))\n",
        "\n",
        "\n",
        "def eucl_dist_output_shape(shapes):\n",
        "    shape1, shape2 = shapes\n",
        "    return (shape1[0], 1)"
      ],
      "metadata": {
        "id": "JRax1kFMQ7oO"
      },
      "execution_count": 4,
      "outputs": []
    },
    {
      "cell_type": "code",
      "source": [
        "base_network = initialize_base_network()"
      ],
      "metadata": {
        "id": "0Z7sDnAiWKeN"
      },
      "execution_count": 5,
      "outputs": []
    },
    {
      "cell_type": "code",
      "source": [
        "input_a = Input(shape=(44100,2,), name=\"left_input\")\n",
        "vect_output_a = base_network(input_a)\n",
        "\n",
        "input_b = Input(shape=(44100,2,), name=\"right_input\")\n",
        "vect_output_b = base_network(input_b)\n",
        "\n",
        "output = Lambda(euclidean_distance, name=\"output_layer\", output_shape=eucl_dist_output_shape)([vect_output_a, vect_output_b])\n",
        "\n",
        "model = Model([input_a, input_b], output)"
      ],
      "metadata": {
        "id": "Ja9FDVzrUqXv"
      },
      "execution_count": 6,
      "outputs": []
    },
    {
      "cell_type": "code",
      "source": [
        "# function to see the model performance by the  loss\n",
        "\n",
        "def contrastive_loss_with_margin(margin):\n",
        "    def contrastive_loss(y_true, y_pred):\n",
        "        '''Contrastive loss from Hadsell-et-al.'06\n",
        "        http://yann.lecun.com/exdb/publis/pdf/hadsell-chopra-lecun-06.pdf\n",
        "        '''\n",
        "        square_pred = K.square(y_pred)\n",
        "        margin_square = K.square(K.maximum(margin - y_pred, 0))\n",
        "        return K.mean(y_true * square_pred + (1 - y_true) * margin_square)\n",
        "    return contrastive_loss"
      ],
      "metadata": {
        "id": "O-E3jTeBUtK7"
      },
      "execution_count": 7,
      "outputs": []
    },
    {
      "cell_type": "code",
      "source": [
        "# models training\n",
        "\n",
        "from tensorflow.keras.optimizers import RMSprop\n",
        "\n",
        "rms = RMSprop()\n",
        "model.compile(loss=contrastive_loss_with_margin(margin=1), optimizer=rms)\n",
        "history = model.fit([x[:,0], x[:,1]], y, epochs=20, batch_size=128, validation_data=([x[:,0], x[:,1]], y))"
      ],
      "metadata": {
        "id": "kZwYgaPyWNtR",
        "colab": {
          "base_uri": "https://localhost:8080/"
        },
        "outputId": "9bad3ac6-0003-4ba3-d1a8-3fa38536e446"
      },
      "execution_count": 8,
      "outputs": [
        {
          "output_type": "stream",
          "name": "stdout",
          "text": [
            "Epoch 1/20\n",
            "2/2 [==============================] - 3s 1s/step - loss: 1.9805 - val_loss: 2.4999\n",
            "Epoch 2/20\n",
            "2/2 [==============================] - 1s 771ms/step - loss: 2.3885 - val_loss: 1.0028\n",
            "Epoch 3/20\n",
            "2/2 [==============================] - 1s 734ms/step - loss: 1.1899 - val_loss: 0.5169\n",
            "Epoch 4/20\n",
            "2/2 [==============================] - 1s 730ms/step - loss: 0.5903 - val_loss: 0.2301\n",
            "Epoch 5/20\n",
            "2/2 [==============================] - 1s 739ms/step - loss: 0.2882 - val_loss: 0.1319\n",
            "Epoch 6/20\n",
            "2/2 [==============================] - 2s 1s/step - loss: 0.1842 - val_loss: 0.0940\n",
            "Epoch 7/20\n",
            "2/2 [==============================] - 2s 1s/step - loss: 0.1429 - val_loss: 0.0787\n",
            "Epoch 8/20\n",
            "2/2 [==============================] - 4s 3s/step - loss: 0.1149 - val_loss: 0.0688\n",
            "Epoch 9/20\n",
            "2/2 [==============================] - 3s 2s/step - loss: 0.0932 - val_loss: 0.0552\n",
            "Epoch 10/20\n",
            "2/2 [==============================] - 3s 2s/step - loss: 0.0774 - val_loss: 0.0437\n",
            "Epoch 11/20\n",
            "2/2 [==============================] - 5s 3s/step - loss: 0.0659 - val_loss: 0.0366\n",
            "Epoch 12/20\n",
            "2/2 [==============================] - 2s 961ms/step - loss: 0.0521 - val_loss: 0.0300\n",
            "Epoch 13/20\n",
            "2/2 [==============================] - 2s 1s/step - loss: 0.0459 - val_loss: 0.0281\n",
            "Epoch 14/20\n",
            "2/2 [==============================] - 1s 761ms/step - loss: 0.0421 - val_loss: 0.0204\n",
            "Epoch 15/20\n",
            "2/2 [==============================] - 1s 739ms/step - loss: 0.0296 - val_loss: 0.0150\n",
            "Epoch 16/20\n",
            "2/2 [==============================] - 1s 751ms/step - loss: 0.0285 - val_loss: 0.0135\n",
            "Epoch 17/20\n",
            "2/2 [==============================] - 1s 734ms/step - loss: 0.0215 - val_loss: 0.0099\n",
            "Epoch 18/20\n",
            "2/2 [==============================] - 1s 761ms/step - loss: 0.0157 - val_loss: 0.0081\n",
            "Epoch 19/20\n",
            "2/2 [==============================] - 1s 752ms/step - loss: 0.0141 - val_loss: 0.0072\n",
            "Epoch 20/20\n",
            "2/2 [==============================] - 2s 1s/step - loss: 0.0123 - val_loss: 0.0061\n"
          ]
        }
      ]
    },
    {
      "cell_type": "code",
      "source": [
        "# model training visualization\n",
        "\n",
        "import matplotlib.pyplot as plt\n",
        "\n",
        "def plot_metrics(metric_name, title, ylim=5):\n",
        "    plt.title(title)\n",
        "    plt.ylim(0,ylim)\n",
        "    plt.plot(history.history[metric_name],color='blue',label=metric_name)\n",
        "    plt.plot(history.history['val_' + metric_name],color='green',label='val_' + metric_name)\n",
        "    plt.ylabel('loss')\n",
        "    plt.xlabel('epoch')\n",
        "    plt.legend(['train', 'validation'], loc='upper right')\n",
        "\n",
        "plot_metrics(metric_name='loss', title=\"Loss\", ylim=0.2)"
      ],
      "metadata": {
        "colab": {
          "base_uri": "https://localhost:8080/",
          "height": 472
        },
        "id": "QijesNd5Oz2G",
        "outputId": "92c9a769-1fb2-4cb9-b382-fa2cfe91dbdc"
      },
      "execution_count": 9,
      "outputs": [
        {
          "output_type": "display_data",
          "data": {
            "text/plain": [
              "<Figure size 640x480 with 1 Axes>"
            ],
            "image/png": "[encoded data removed]"
          },
          "metadata": {}
        }
      ]
    },
    {
      "cell_type": "code",
      "source": [
        "# function to see the model performance by the accuracy\n",
        "\n",
        "def compute_accuracy(y_true, y_pred):\n",
        "    '''Compute classification accuracy with a fixed threshold on distances.\n",
        "    '''\n",
        "    pred = y_pred.ravel() < 0.5\n",
        "    return np.mean(pred == y_true)"
      ],
      "metadata": {
        "id": "pIzAfqfeqiRg"
      },
      "execution_count": 10,
      "outputs": []
    },
    {
      "cell_type": "code",
      "source": [
        "# model testing\n",
        "\n",
        "loss = model.evaluate(x=[x[:,0],x[:,1]], y=y)\n",
        "\n",
        "y_pred_train = model.predict([x[:,0], x[:,1]])\n",
        "train_accuracy = compute_accuracy(y, y_pred_train)\n",
        "\n",
        "print(\"Loss = {}, Train Accuracy = {}\".format(loss, train_accuracy))"
      ],
      "metadata": {
        "colab": {
          "base_uri": "https://localhost:8080/"
        },
        "id": "kseeUecPqx-9",
        "outputId": "22c009ec-a34a-4ab5-f34a-ce1a80e889c0"
      },
      "execution_count": 11,
      "outputs": [
        {
          "output_type": "stream",
          "name": "stdout",
          "text": [
            "8/8 [==============================] - 0s 44ms/step - loss: 0.0061\n",
            "8/8 [==============================] - 1s 54ms/step\n",
            "Loss = 0.0060673370026052, Train Accuracy = 0.9915966386554622\n"
          ]
        }
      ]
    }
  ]
}